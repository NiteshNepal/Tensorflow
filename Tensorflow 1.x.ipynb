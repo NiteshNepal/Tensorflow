{
 "cells": [
  {
   "cell_type": "code",
   "execution_count": 1,
   "id": "e521bb4f",
   "metadata": {},
   "outputs": [],
   "source": [
    "#%load_ext cudf.pandas\n",
    "import pandas as pd\n",
    "import tensorflow as tf"
   ]
  },
  {
   "cell_type": "code",
   "execution_count": 2,
   "id": "e2ed0fa5",
   "metadata": {},
   "outputs": [
    {
     "name": "stdout",
     "output_type": "stream",
     "text": [
      "Name: tensorflow\n",
      "Version: 1.15.0\n",
      "Summary: TensorFlow is an open source machine learning framework for everyone.\n",
      "Home-page: https://www.tensorflow.org/\n",
      "Author: Google Inc.\n",
      "Author-email: packages@tensorflow.org\n",
      "License: Apache 2.0\n",
      "Location: c:\\users\\asus\\anaconda3\\envs\\tf\\lib\\site-packages\n",
      "Requires: absl-py, astor, gast, google-pasta, grpcio, keras-applications, keras-preprocessing, numpy, opt-einsum, protobuf, six, tensorboard, tensorflow-estimator, termcolor, wheel, wrapt\n",
      "Required-by: \n"
     ]
    }
   ],
   "source": [
    "!pip show tensorflow"
   ]
  },
  {
   "cell_type": "markdown",
   "id": "ebd86cb9",
   "metadata": {},
   "source": [
    "### Constant"
   ]
  },
  {
   "cell_type": "code",
   "execution_count": 3,
   "id": "df1a0bf8",
   "metadata": {},
   "outputs": [
    {
     "data": {
      "text/plain": [
       "<tf.Tensor 'Const:0' shape=() dtype=string>"
      ]
     },
     "execution_count": 3,
     "metadata": {},
     "output_type": "execute_result"
    }
   ],
   "source": [
    "hello_constant= tf.constant(\"Hello World\")\n",
    "hello_constant"
   ]
  },
  {
   "cell_type": "code",
   "execution_count": 4,
   "id": "082bc766",
   "metadata": {},
   "outputs": [
    {
     "name": "stdout",
     "output_type": "stream",
     "text": [
      "b'Hello World'\n"
     ]
    }
   ],
   "source": [
    "with tf.compat.v1.Session() as sess:\n",
    "    output= sess.run(hello_constant)\n",
    "    print(output)"
   ]
  },
  {
   "cell_type": "markdown",
   "id": "6b02e9a3",
   "metadata": {},
   "source": [
    "### Tensor"
   ]
  },
  {
   "cell_type": "markdown",
   "id": "8553b27c",
   "metadata": {},
   "source": [
    "In tensorflow, data is not stored as integer, float, or strings. These values are encapsulated in an object called as tensor. In case of hello_constant= tf.constant(\"Hello World\"), hello_constant is a 0-dimensional string tensor, but tensor comes in variety of sizes."
   ]
  },
  {
   "cell_type": "code",
   "execution_count": 5,
   "id": "307c54f1",
   "metadata": {},
   "outputs": [],
   "source": [
    "a= tf.constant(45)  #0-dimension int32 tensor\n",
    "\n",
    "b= tf.constant([1,2])  #1-dimension int32 tensor \n",
    "\n",
    "c= tf.constant([[1,2],[4,5]])  #2-dimension int32 tensor"
   ]
  },
  {
   "cell_type": "markdown",
   "id": "f71114d6",
   "metadata": {},
   "source": [
    "tf.constant() is one of the many Tensorflow operations we will use. The tensor returned by the tf.constant() is called as a constant tensor, because the value of the tensor never changes. "
   ]
  },
  {
   "cell_type": "code",
   "execution_count": 6,
   "id": "a2a0c39e",
   "metadata": {},
   "outputs": [
    {
     "data": {
      "text/plain": [
       "<tf.Tensor 'Const_1:0' shape=() dtype=int32>"
      ]
     },
     "execution_count": 6,
     "metadata": {},
     "output_type": "execute_result"
    }
   ],
   "source": [
    "a"
   ]
  },
  {
   "cell_type": "markdown",
   "id": "0294470e",
   "metadata": {},
   "source": [
    "### Session "
   ]
  },
  {
   "cell_type": "markdown",
   "id": "5d0e2c91",
   "metadata": {},
   "source": [
    "Session is a type of instance which tries to allocate CPU, memory and RAM to our execution. In Tensorflow 1.x there is a provision to allocate a location before exectuting something. Basically there was no dyanmic location of the resources. That's why we create the a Session."
   ]
  },
  {
   "cell_type": "markdown",
   "id": "b88f955a",
   "metadata": {},
   "source": [
    "Tensorflow's api is build around the idea of a computational graph, a way of visualizing a mathematical process. Let's take a tensorflow code and turn into a graph."
   ]
  },
  {
   "cell_type": "markdown",
   "id": "c0a8737a",
   "metadata": {},
   "source": [
    "In the last session the tensor was passed into the session and it returned the result. What if we want to use a non-constant? this is where tf.placeholder() and feed_dict come into place. In this we will go over the basics of feeding data into Tensorflow."
   ]
  },
  {
   "cell_type": "markdown",
   "id": "6ebb177e",
   "metadata": {},
   "source": [
    "### tf.placeholder()"
   ]
  },
  {
   "cell_type": "markdown",
   "id": "bf02078a",
   "metadata": {},
   "source": [
    "tf.placeholder() returns a tensor that gets its value from the data passed to the tf.session.run() function, allowing us to set the input right before the session runs."
   ]
  },
  {
   "cell_type": "code",
   "execution_count": 7,
   "id": "ec8b81db",
   "metadata": {},
   "outputs": [
    {
     "name": "stdout",
     "output_type": "stream",
     "text": [
      "WARNING:tensorflow:From C:\\Users\\asus\\AppData\\Local\\Temp\\ipykernel_15628\\3315807699.py:1: The name tf.placeholder is deprecated. Please use tf.compat.v1.placeholder instead.\n",
      "\n",
      "Hello World\n"
     ]
    }
   ],
   "source": [
    "x=tf.placeholder(tf.string)\n",
    "\n",
    "with tf.compat.v1.Session() as sess:\n",
    "    output= sess.run(x, feed_dict={x:\"Hello World\"})\n",
    "    print(output)"
   ]
  },
  {
   "cell_type": "code",
   "execution_count": 8,
   "id": "bc124503",
   "metadata": {},
   "outputs": [
    {
     "name": "stdout",
     "output_type": "stream",
     "text": [
      "Test String\n",
      "123\n",
      "45.67\n"
     ]
    }
   ],
   "source": [
    "x= tf.placeholder(tf.string)\n",
    "y= tf.placeholder(tf.int32)\n",
    "z= tf.placeholder(tf.float32)\n",
    "\n",
    "with tf.compat.v1.Session() as sess:\n",
    "    output_x= sess.run(x, feed_dict={x:\"Test String\", y:123, z:45.67})\n",
    "    output_y= sess.run(y, feed_dict={x:\"Test String\", y:123, z:45.67})\n",
    "    output_z= sess.run(z, feed_dict={x:\"Test String\", y:123, z:45.67})\n",
    "    print(output_x)\n",
    "    print(output_y)\n",
    "    print(output_z)"
   ]
  },
  {
   "cell_type": "markdown",
   "id": "e1e24bd0",
   "metadata": {},
   "source": [
    "### Tensorflow Maths"
   ]
  },
  {
   "cell_type": "code",
   "execution_count": 9,
   "id": "c9012003",
   "metadata": {},
   "outputs": [
    {
     "name": "stdout",
     "output_type": "stream",
     "text": [
      "7\n"
     ]
    }
   ],
   "source": [
    "x= tf.add(5,2)\n",
    "\n",
    "with tf.compat.v1.Session() as sess:\n",
    "    output= sess.run(x)\n",
    "    print(output)"
   ]
  },
  {
   "cell_type": "code",
   "execution_count": 10,
   "id": "1ed9109e",
   "metadata": {},
   "outputs": [],
   "source": [
    "x= tf.subtract(10,2)"
   ]
  },
  {
   "cell_type": "code",
   "execution_count": 11,
   "id": "c61fa1df",
   "metadata": {},
   "outputs": [],
   "source": [
    "y=tf.multiply(2,4)"
   ]
  },
  {
   "cell_type": "markdown",
   "id": "d313945d",
   "metadata": {},
   "source": [
    "### Converting Types"
   ]
  },
  {
   "cell_type": "code",
   "execution_count": 12,
   "id": "b804d38c",
   "metadata": {},
   "outputs": [],
   "source": [
    "#tf.subtract(tf.constant(2.0),tf.constant(1))  #This will show error, we need to do our typecasting by ourself.\n",
    "\n",
    "x=tf.subtract(tf.cast(tf.constant(4.0),tf.int32),tf.constant(1))  #we need to do a type casting"
   ]
  },
  {
   "cell_type": "code",
   "execution_count": 13,
   "id": "8a1af201",
   "metadata": {},
   "outputs": [
    {
     "name": "stdout",
     "output_type": "stream",
     "text": [
      "3\n"
     ]
    }
   ],
   "source": [
    "with tf.compat.v1.Session() as sess:\n",
    "    output= sess.run(x)\n",
    "    print(output)"
   ]
  },
  {
   "cell_type": "code",
   "execution_count": 14,
   "id": "f773c475",
   "metadata": {},
   "outputs": [
    {
     "name": "stdout",
     "output_type": "stream",
     "text": [
      "3.0\n"
     ]
    }
   ],
   "source": [
    "x= tf.constant(10)\n",
    "y= tf.constant(2)\n",
    "z=tf.subtract(tf.divide(x,y),2)\n",
    "\n",
    "with tf.compat.v1.Session() as sess:\n",
    "    output= sess.run(z)\n",
    "    print(output)"
   ]
  },
  {
   "cell_type": "markdown",
   "id": "a2d9bb16",
   "metadata": {},
   "source": [
    "## Tensorflow Linear Function"
   ]
  },
  {
   "cell_type": "markdown",
   "id": "ae6367d6",
   "metadata": {},
   "source": [
    "The most common operation in neural network is calculating the linear combination of inputs, weights, and biases. As a reminder, we can write the output of the linear as: \n",
    "## y = xW+b\n",
    "Here W is a matrix of weights connecting two layers. The output y , input x and biases b are all vectors."
   ]
  },
  {
   "cell_type": "markdown",
   "id": "7dca6e80",
   "metadata": {},
   "source": [
    "#### Weights and Bias in Tensorflow"
   ]
  },
  {
   "cell_type": "markdown",
   "id": "29daadde",
   "metadata": {},
   "source": [
    "The goal of training a neural network is to modify the weights and biases to predict the best labels. In order to use weights and bias, we need a Tensor that can be modifed. This leaves out tf.placeholder() and tf.constant(), since those tesor cant be modified. This is where tf.Variable() comes in place."
   ]
  },
  {
   "cell_type": "markdown",
   "id": "18a04f6c",
   "metadata": {},
   "source": [
    "### Variable"
   ]
  },
  {
   "cell_type": "markdown",
   "id": "7fcbb23d",
   "metadata": {},
   "source": [
    "The tf.Variable() creates a tensor that can be changed or modified in a run time, much like a python variable."
   ]
  },
  {
   "cell_type": "code",
   "execution_count": 15,
   "id": "5570f75b",
   "metadata": {},
   "outputs": [],
   "source": [
    "x= tf.Variable(27)"
   ]
  },
  {
   "cell_type": "markdown",
   "id": "0d522c14",
   "metadata": {},
   "source": [
    "The above tensor stores it's state in the session, so we must initialize the state of the tensor manually. we will use the tf.global_variables_initializer() function to the intialize the state of the Variables tensors"
   ]
  },
  {
   "cell_type": "code",
   "execution_count": 16,
   "id": "b29a71d9",
   "metadata": {},
   "outputs": [
    {
     "name": "stdout",
     "output_type": "stream",
     "text": [
      "WARNING:tensorflow:From C:\\Users\\asus\\AppData\\Local\\Temp\\ipykernel_15628\\1340230337.py:1: The name tf.global_variables_initializer is deprecated. Please use tf.compat.v1.global_variables_initializer instead.\n",
      "\n"
     ]
    }
   ],
   "source": [
    "init= tf.global_variables_initializer()\n",
    "with tf.compat.v1.Session() as sess:\n",
    "    sess.run(init)"
   ]
  },
  {
   "cell_type": "markdown",
   "id": "d8e4892b",
   "metadata": {},
   "source": [
    "The tf.global_variables_initializer() call return an operation that will initialize all Tensorflow variables from the graph."
   ]
  },
  {
   "cell_type": "markdown",
   "id": "a40b3349",
   "metadata": {},
   "source": [
    "We call the operation using a session to initlialize all the variables as shown above. Using the tf.Variable class allows using to the change the weights and bias, but initial values should be choosen.\n",
    "\n",
    "Initializing the weights with the random numbers from a normal distribution is good practice. Randomizing the weights helps the model from being stuck in the same place every time we train.\n",
    "\n",
    "Similarly, choosing weights from a normal distribution prevents any one weight from overwhelming other weights. We will use the tf.truncated_normal() function to generate the random numbers from a normal distribution."
   ]
  },
  {
   "cell_type": "markdown",
   "id": "d39bf122",
   "metadata": {},
   "source": [
    "### tf.truncated_normal()"
   ]
  },
  {
   "cell_type": "code",
   "execution_count": 17,
   "id": "6fdd04fb",
   "metadata": {},
   "outputs": [
    {
     "name": "stdout",
     "output_type": "stream",
     "text": [
      "WARNING:tensorflow:From C:\\Users\\asus\\AppData\\Local\\Temp\\ipykernel_15628\\1958211887.py:3: The name tf.truncated_normal is deprecated. Please use tf.random.truncated_normal instead.\n",
      "\n"
     ]
    }
   ],
   "source": [
    "n_feature= 10\n",
    "n_labels= 5\n",
    "weights= tf.Variable(tf.truncated_normal((n_feature, n_labels)))  # It will create 10*5 matrix. 10 rows, 5 column."
   ]
  },
  {
   "cell_type": "markdown",
   "id": "b03ff3e7",
   "metadata": {},
   "source": [
    " The function returns a tensor with random values from a normal distribution whose magnitude is no more than 2 standard deviation form the mean."
   ]
  },
  {
   "cell_type": "markdown",
   "id": "2cd0cf2c",
   "metadata": {},
   "source": [
    "Since the weights are already helping prevent the model from getting stuck , we dont need to randomize the bias. Lets use a simple solution of setting bias to 0."
   ]
  },
  {
   "cell_type": "markdown",
   "id": "73a6d500",
   "metadata": {},
   "source": [
    "### tf.zeros()"
   ]
  },
  {
   "cell_type": "code",
   "execution_count": 18,
   "id": "f5fef61c",
   "metadata": {},
   "outputs": [
    {
     "data": {
      "text/plain": [
       "<tf.Variable 'Variable_2:0' shape=(5,) dtype=float32_ref>"
      ]
     },
     "execution_count": 18,
     "metadata": {},
     "output_type": "execute_result"
    }
   ],
   "source": [
    "n_labels=5\n",
    "bias= tf.Variable(tf.zeros(n_labels))\n",
    "bias"
   ]
  },
  {
   "cell_type": "markdown",
   "id": "3c4874fa",
   "metadata": {},
   "source": [
    "## Softmax"
   ]
  },
  {
   "cell_type": "markdown",
   "id": "03797b0e",
   "metadata": {},
   "source": [
    "softmax helps to find out the linear probability of occurance of any number.\n",
    "The formula of finding the softmax is:\n",
    "### e^y/(∑e^y)"
   ]
  },
  {
   "cell_type": "markdown",
   "id": "a030e0b9",
   "metadata": {},
   "source": [
    "It is a perfect function to use as the output activation for a network predicting multiple classes."
   ]
  },
  {
   "cell_type": "markdown",
   "id": "43ac664f",
   "metadata": {},
   "source": [
    "if there are 3 numbers, 2.0,1.0 and 0.2 then the softmax of 2.0 is:\n",
    "\n",
    "e^2.0/(e^2.0+e^1.0+e^0.2)\n",
    "\n",
    "that would be: 0.65.\n",
    "Which means that, the probablity of occurance of 2.0 is 0.65."
   ]
  },
  {
   "cell_type": "code",
   "execution_count": 27,
   "id": "b500c6dc",
   "metadata": {},
   "outputs": [
    {
     "name": "stdout",
     "output_type": "stream",
     "text": [
      "[0.65223986 0.23994564 0.10781453]\n"
     ]
    }
   ],
   "source": [
    "x= tf.nn.softmax([2.0,1.0,0.2]) #the function takes in logits and returns softmax activation.\n",
    "\n",
    "with tf.compat.v1.Session() as sess:\n",
    "    output= sess.run(x)\n",
    "    print(output)"
   ]
  },
  {
   "cell_type": "code",
   "execution_count": 26,
   "id": "a2b51035",
   "metadata": {},
   "outputs": [
    {
     "name": "stdout",
     "output_type": "stream",
     "text": [
      "[0.65223986 0.23994564 0.10781453]\n"
     ]
    }
   ],
   "source": [
    "def softmax():\n",
    "    output= None\n",
    "    logit_data= [2.0,1.0,0.2]\n",
    "    logits= tf.placeholder(tf.float32)  #using placeholder\n",
    "    \n",
    "    softmax= tf.nn.softmax(logit_data)\n",
    "    \n",
    "    with tf.compat.v1.Session() as sess:\n",
    "        output= sess.run(softmax, feed_dict={logits:logit_data})\n",
    "    \n",
    "    return output\n",
    "\n",
    "print(softmax())"
   ]
  },
  {
   "cell_type": "code",
   "execution_count": null,
   "id": "322b1077",
   "metadata": {},
   "outputs": [],
   "source": [
    "\"\"\"\n",
    "#To create a cross entropy function in Tensorflow, we need two more function:\n",
    "-tf.reduced_sum()\n",
    "-tf.log()\n",
    "\"\"\""
   ]
  },
  {
   "cell_type": "markdown",
   "id": "d08bbb49",
   "metadata": {},
   "source": [
    "### Reduce Sum"
   ]
  },
  {
   "cell_type": "code",
   "execution_count": 29,
   "id": "f52f8e5d",
   "metadata": {},
   "outputs": [],
   "source": [
    "x= tf.reduce_sum([1,2,3,4,5]) #15"
   ]
  },
  {
   "cell_type": "markdown",
   "id": "94c0bed1",
   "metadata": {},
   "source": [
    "### Natural Log"
   ]
  },
  {
   "cell_type": "code",
   "execution_count": 31,
   "id": "1a3b833e",
   "metadata": {},
   "outputs": [
    {
     "data": {
      "text/plain": [
       "<tf.Tensor 'Log_1:0' shape=() dtype=float32>"
      ]
     },
     "execution_count": 31,
     "metadata": {},
     "output_type": "execute_result"
    }
   ],
   "source": [
    "l= tf.log(100.0)  #4.60517, log with base e.\n",
    "l"
   ]
  },
  {
   "cell_type": "code",
   "execution_count": 32,
   "id": "330ea707",
   "metadata": {},
   "outputs": [
    {
     "name": "stdout",
     "output_type": "stream",
     "text": [
      "0.35667497\n"
     ]
    }
   ],
   "source": [
    "softmax_data=[0.7,0.2,0.1]\n",
    "one_hot_data=[1.0,0.0,0.0]\n",
    "\n",
    "softmax= tf.placeholder(tf.float32)\n",
    "one_hot=tf.placeholder(tf.float32)\n",
    "\n",
    "#cross entropy from session\n",
    "cross_entropy= -tf.reduce_sum(tf.multiply(one_hot_data,tf.log(softmax_data)))\n",
    "\n",
    "with tf.compat.v1.Session() as sess:\n",
    "    output= sess.run(cross_entropy,feed_dict={one_hot:one_hot_data, softmax:softmax_data})\n",
    "    print(output)\n"
   ]
  },
  {
   "cell_type": "code",
   "execution_count": null,
   "id": "73614ba7",
   "metadata": {},
   "outputs": [],
   "source": []
  }
 ],
 "metadata": {
  "kernelspec": {
   "display_name": "Python 3 (ipykernel)",
   "language": "python",
   "name": "python3"
  },
  "language_info": {
   "codemirror_mode": {
    "name": "ipython",
    "version": 3
   },
   "file_extension": ".py",
   "mimetype": "text/x-python",
   "name": "python",
   "nbconvert_exporter": "python",
   "pygments_lexer": "ipython3",
   "version": "3.7.0"
  }
 },
 "nbformat": 4,
 "nbformat_minor": 5
}
