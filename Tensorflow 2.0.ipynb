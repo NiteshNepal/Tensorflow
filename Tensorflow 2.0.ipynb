{
 "cells": [
  {
   "cell_type": "code",
   "execution_count": 1,
   "id": "156954f9",
   "metadata": {},
   "outputs": [],
   "source": [
    "import warnings\n",
    "warnings.filterwarnings(\"ignore\")"
   ]
  },
  {
   "cell_type": "code",
   "execution_count": 2,
   "id": "88db8ea9",
   "metadata": {},
   "outputs": [
    {
     "name": "stdout",
     "output_type": "stream",
     "text": [
      "WARNING:tensorflow:From C:\\Users\\asus\\anaconda3\\lib\\site-packages\\keras\\src\\losses.py:2976: The name tf.losses.sparse_softmax_cross_entropy is deprecated. Please use tf.compat.v1.losses.sparse_softmax_cross_entropy instead.\n",
      "\n"
     ]
    }
   ],
   "source": [
    "import tensorflow as tf"
   ]
  },
  {
   "cell_type": "code",
   "execution_count": 3,
   "id": "a48faff1",
   "metadata": {},
   "outputs": [
    {
     "data": {
      "text/plain": [
       "'2.15.0'"
      ]
     },
     "execution_count": 3,
     "metadata": {},
     "output_type": "execute_result"
    }
   ],
   "source": [
    "tf.__version__"
   ]
  },
  {
   "cell_type": "code",
   "execution_count": 4,
   "id": "24412d72",
   "metadata": {},
   "outputs": [
    {
     "name": "stdout",
     "output_type": "stream",
     "text": [
      "CPU\n"
     ]
    }
   ],
   "source": [
    "if tf.config.list_physical_devices(\"GPU\"):\n",
    "    print(\"GPU\")\n",
    "else:\n",
    "    print(\"CPU\")"
   ]
  },
  {
   "cell_type": "markdown",
   "id": "538fdc8d",
   "metadata": {},
   "source": [
    "### constant"
   ]
  },
  {
   "cell_type": "code",
   "execution_count": 5,
   "id": "00aaeabd",
   "metadata": {},
   "outputs": [
    {
     "data": {
      "text/plain": [
       "<tf.Tensor: shape=(), dtype=int32, numpy=42>"
      ]
     },
     "execution_count": 5,
     "metadata": {},
     "output_type": "execute_result"
    }
   ],
   "source": [
    "constant=tf.constant(42)\n",
    "constant"
   ]
  },
  {
   "cell_type": "code",
   "execution_count": 6,
   "id": "fe0b3a67",
   "metadata": {},
   "outputs": [
    {
     "data": {
      "text/plain": [
       "42"
      ]
     },
     "execution_count": 6,
     "metadata": {},
     "output_type": "execute_result"
    }
   ],
   "source": [
    "constant.numpy()"
   ]
  },
  {
   "cell_type": "code",
   "execution_count": 7,
   "id": "917141cc",
   "metadata": {},
   "outputs": [
    {
     "data": {
      "text/plain": [
       "tensorflow.python.framework.ops.EagerTensor"
      ]
     },
     "execution_count": 7,
     "metadata": {},
     "output_type": "execute_result"
    }
   ],
   "source": [
    "type(constant)"
   ]
  },
  {
   "cell_type": "code",
   "execution_count": 8,
   "id": "ab0a9097",
   "metadata": {},
   "outputs": [
    {
     "data": {
      "text/plain": [
       "tf.int32"
      ]
     },
     "execution_count": 8,
     "metadata": {},
     "output_type": "execute_result"
    }
   ],
   "source": [
    "constant.dtype"
   ]
  },
  {
   "cell_type": "code",
   "execution_count": 9,
   "id": "9886f706",
   "metadata": {},
   "outputs": [
    {
     "data": {
      "text/plain": [
       "<tf.Tensor: shape=(), dtype=int64, numpy=42>"
      ]
     },
     "execution_count": 9,
     "metadata": {},
     "output_type": "execute_result"
    }
   ],
   "source": [
    "constant1=tf.constant(42, dtype=tf.int64)\n",
    "constant1"
   ]
  },
  {
   "cell_type": "code",
   "execution_count": 10,
   "id": "39d653af",
   "metadata": {},
   "outputs": [
    {
     "data": {
      "text/plain": [
       "<tf.Tensor: shape=(2, 2), dtype=int32, numpy=\n",
       "array([[2, 3],\n",
       "       [4, 5]])>"
      ]
     },
     "execution_count": 10,
     "metadata": {},
     "output_type": "execute_result"
    }
   ],
   "source": [
    "constant2= tf.constant([[2,3],[4,5]])\n",
    "constant2"
   ]
  },
  {
   "cell_type": "markdown",
   "id": "d8461ec7",
   "metadata": {},
   "source": [
    "#### Commonly used method to genereate constant tf.ones and tf.zeros just like np.ones and np.zeros"
   ]
  },
  {
   "cell_type": "code",
   "execution_count": 11,
   "id": "43d23935",
   "metadata": {},
   "outputs": [
    {
     "data": {
      "text/plain": [
       "<tf.Tensor: shape=(2, 3), dtype=float32, numpy=\n",
       "array([[1., 1., 1.],\n",
       "       [1., 1., 1.]], dtype=float32)>"
      ]
     },
     "execution_count": 11,
     "metadata": {},
     "output_type": "execute_result"
    }
   ],
   "source": [
    "tf.ones(shape=(2,3))"
   ]
  },
  {
   "cell_type": "code",
   "execution_count": 12,
   "id": "4470b063",
   "metadata": {},
   "outputs": [
    {
     "data": {
      "text/plain": [
       "<tf.Tensor: shape=(3, 2), dtype=float32, numpy=\n",
       "array([[0., 0.],\n",
       "       [0., 0.],\n",
       "       [0., 0.]], dtype=float32)>"
      ]
     },
     "execution_count": 12,
     "metadata": {},
     "output_type": "execute_result"
    }
   ],
   "source": [
    "tf.zeros(shape=(3,2))"
   ]
  },
  {
   "cell_type": "code",
   "execution_count": 13,
   "id": "ccc2923c",
   "metadata": {},
   "outputs": [
    {
     "name": "stdout",
     "output_type": "stream",
     "text": [
      "tf.Tensor(\n",
      "[[5 3]\n",
      " [3 5]\n",
      " [8 9]], shape=(3, 2), dtype=int32)\n"
     ]
    }
   ],
   "source": [
    "const1= tf.constant([[1,2],[2,3],[4,2]])\n",
    "const2= tf.constant([[4,1],[1,2],[4,7]])\n",
    "result=tf.add(const1,const2)\n",
    "print(result)"
   ]
  },
  {
   "cell_type": "markdown",
   "id": "180fb331",
   "metadata": {},
   "source": [
    "#### random constant"
   ]
  },
  {
   "cell_type": "code",
   "execution_count": 14,
   "id": "2df42b12",
   "metadata": {},
   "outputs": [
    {
     "data": {
      "text/plain": [
       "<tf.Tensor: shape=(2, 3), dtype=float32, numpy=\n",
       "array([[ 0.4960703, -1.1527423, -1.3067404],\n",
       "       [ 0.4395593, -0.3484977, -1.2489597]], dtype=float32)>"
      ]
     },
     "execution_count": 14,
     "metadata": {},
     "output_type": "execute_result"
    }
   ],
   "source": [
    "tf.random.normal(shape=(2,3),mean=0, stddev=1) #same as randn of numpy"
   ]
  },
  {
   "cell_type": "code",
   "execution_count": 15,
   "id": "7a12f9da",
   "metadata": {},
   "outputs": [
    {
     "data": {
      "text/plain": [
       "<tf.Tensor: shape=(2, 3), dtype=int32, numpy=\n",
       "array([[2, 6, 8],\n",
       "       [9, 1, 6]])>"
      ]
     },
     "execution_count": 15,
     "metadata": {},
     "output_type": "execute_result"
    }
   ],
   "source": [
    "tf.random.uniform(shape=(2,3),minval=0, maxval=10, dtype=tf.int32)"
   ]
  },
  {
   "cell_type": "markdown",
   "id": "5e0cd8ff",
   "metadata": {},
   "source": [
    "### variable"
   ]
  },
  {
   "cell_type": "markdown",
   "id": "200a1fb1",
   "metadata": {},
   "source": [
    "A variable is a special tensor that is used to store the variable values and needs to be initialized with some values."
   ]
  },
  {
   "cell_type": "code",
   "execution_count": 16,
   "id": "cea73d7b",
   "metadata": {},
   "outputs": [
    {
     "data": {
      "text/plain": [
       "<tf.Variable 'Variable:0' shape=(2,) dtype=int32, numpy=array([3, 3])>"
      ]
     },
     "execution_count": 16,
     "metadata": {},
     "output_type": "execute_result"
    }
   ],
   "source": [
    "variable=tf.Variable([3,3])\n",
    "variable"
   ]
  },
  {
   "cell_type": "code",
   "execution_count": 17,
   "id": "61895d10",
   "metadata": {},
   "outputs": [
    {
     "data": {
      "text/plain": [
       "tensorflow.python.ops.resource_variable_ops.ResourceVariable"
      ]
     },
     "execution_count": 17,
     "metadata": {},
     "output_type": "execute_result"
    }
   ],
   "source": [
    "type(variable)"
   ]
  },
  {
   "cell_type": "code",
   "execution_count": 18,
   "id": "9bb58c64",
   "metadata": {},
   "outputs": [
    {
     "data": {
      "text/plain": [
       "(24,\n",
       " <tf.Variable 'Variable:0' shape=() dtype=int32, numpy=42>,\n",
       " <tf.Variable 'Variable:0' shape=(3, 2) dtype=float32, numpy=\n",
       " array([[1., 2.],\n",
       "        [2., 3.],\n",
       "        [4., 5.]], dtype=float32)>)"
      ]
     },
     "execution_count": 18,
     "metadata": {},
     "output_type": "execute_result"
    }
   ],
   "source": [
    "var0=24\n",
    "var1=tf.Variable(42)\n",
    "var2=tf.Variable([[1,2],[2,3],[4.0,5.0]])\n",
    "var0,var1,var2"
   ]
  },
  {
   "cell_type": "markdown",
   "id": "8af242a0",
   "metadata": {},
   "source": [
    "#### The datatype can be explicitly specified"
   ]
  },
  {
   "cell_type": "code",
   "execution_count": 19,
   "id": "ba719cc5",
   "metadata": {},
   "outputs": [
    {
     "data": {
      "text/plain": [
       "<tf.Variable 'Variable:0' shape=() dtype=float64, numpy=42.0>"
      ]
     },
     "execution_count": 19,
     "metadata": {},
     "output_type": "execute_result"
    }
   ],
   "source": [
    "floatvar= tf.Variable(42, dtype=tf.float64)\n",
    "floatvar"
   ]
  },
  {
   "cell_type": "markdown",
   "id": "503bbae8",
   "metadata": {},
   "source": [
    "#### To reassign a variable"
   ]
  },
  {
   "cell_type": "code",
   "execution_count": 20,
   "id": "702b557b",
   "metadata": {},
   "outputs": [
    {
     "data": {
      "text/plain": [
       "<tf.Variable 'Variable:0' shape=() dtype=float32, numpy=29.0>"
      ]
     },
     "execution_count": 20,
     "metadata": {},
     "output_type": "execute_result"
    }
   ],
   "source": [
    "var= tf.Variable(29.)\n",
    "var"
   ]
  },
  {
   "cell_type": "code",
   "execution_count": 21,
   "id": "20ea03f6",
   "metadata": {},
   "outputs": [
    {
     "data": {
      "text/plain": [
       "<tf.Variable 'UnreadVariable' shape=() dtype=float32, numpy=42.0>"
      ]
     },
     "execution_count": 21,
     "metadata": {},
     "output_type": "execute_result"
    }
   ],
   "source": [
    "var.assign(42.)"
   ]
  },
  {
   "cell_type": "code",
   "execution_count": 22,
   "id": "ee5fbff0",
   "metadata": {},
   "outputs": [
    {
     "name": "stdout",
     "output_type": "stream",
     "text": [
      "<tf.Variable 'Variable:0' shape=(2, 2) dtype=float32, numpy=\n",
      "array([[-1.6964247 ,  0.54196423],\n",
      "       [-0.98091495,  0.29257286]], dtype=float32)>\n"
     ]
    }
   ],
   "source": [
    "initial_value= tf.random.normal(shape=(2,2))\n",
    "a=tf.Variable(initial_value)\n",
    "print(a)"
   ]
  },
  {
   "cell_type": "markdown",
   "id": "378b7aec",
   "metadata": {},
   "source": [
    "#### Reshaping the tensor"
   ]
  },
  {
   "cell_type": "code",
   "execution_count": 23,
   "id": "32c48d05",
   "metadata": {},
   "outputs": [
    {
     "data": {
      "text/plain": [
       "<tf.Variable 'Variable:0' shape=(2, 2, 2) dtype=int32, numpy=\n",
       "array([[[2, 3],\n",
       "        [2, 5]],\n",
       "\n",
       "       [[1, 2],\n",
       "        [3, 4]]])>"
      ]
     },
     "execution_count": 23,
     "metadata": {},
     "output_type": "execute_result"
    }
   ],
   "source": [
    "tensor= tf.Variable([[[2,3],[2,5]],[[1,2],[3,4]]])\n",
    "tensor"
   ]
  },
  {
   "cell_type": "code",
   "execution_count": 24,
   "id": "ae3fa4ed",
   "metadata": {},
   "outputs": [
    {
     "data": {
      "text/plain": [
       "<tf.Tensor: shape=(2, 4), dtype=int32, numpy=\n",
       "array([[2, 3, 2, 5],\n",
       "       [1, 2, 3, 4]])>"
      ]
     },
     "execution_count": 24,
     "metadata": {},
     "output_type": "execute_result"
    }
   ],
   "source": [
    "tensor1= tf.reshape(tensor,[2,-1])  \n",
    "#the reshaping takes place like, if there is 8 data , it can be reshaped into 4*2, 2*4, 1*8, 8*1.\n",
    "#That's why we use -1 in last , because it will automatically detect the shape.\n",
    "tensor1"
   ]
  },
  {
   "cell_type": "code",
   "execution_count": 25,
   "id": "9893ba78",
   "metadata": {},
   "outputs": [
    {
     "data": {
      "text/plain": [
       "<tf.Tensor: shape=(4, 2), dtype=int32, numpy=\n",
       "array([[2, 3],\n",
       "       [2, 5],\n",
       "       [1, 2],\n",
       "       [3, 4]])>"
      ]
     },
     "execution_count": 25,
     "metadata": {},
     "output_type": "execute_result"
    }
   ],
   "source": [
    "tensor2= tf.reshape(tensor,[4,-1])  #It has automatically detect the 4*2.\n",
    "tensor2"
   ]
  },
  {
   "cell_type": "markdown",
   "id": "18c755f7",
   "metadata": {},
   "source": [
    "#### Rank of Tensor"
   ]
  },
  {
   "cell_type": "code",
   "execution_count": 26,
   "id": "768549e1",
   "metadata": {},
   "outputs": [
    {
     "data": {
      "text/plain": [
       "<tf.Variable 'Variable:0' shape=(2, 2, 2) dtype=int32, numpy=\n",
       "array([[[2, 3],\n",
       "        [2, 5]],\n",
       "\n",
       "       [[1, 2],\n",
       "        [3, 4]]])>"
      ]
     },
     "execution_count": 26,
     "metadata": {},
     "output_type": "execute_result"
    }
   ],
   "source": [
    "tensor"
   ]
  },
  {
   "cell_type": "code",
   "execution_count": 27,
   "id": "d967a827",
   "metadata": {},
   "outputs": [
    {
     "data": {
      "text/plain": [
       "<tf.Tensor: shape=(), dtype=int32, numpy=3>"
      ]
     },
     "execution_count": 27,
     "metadata": {},
     "output_type": "execute_result"
    }
   ],
   "source": [
    "tf.rank(tensor)"
   ]
  },
  {
   "cell_type": "markdown",
   "id": "352a68d2",
   "metadata": {},
   "source": [
    "#### specifying an element of a tensor   "
   ]
  },
  {
   "cell_type": "code",
   "execution_count": 28,
   "id": "d594c151",
   "metadata": {},
   "outputs": [
    {
     "data": {
      "text/plain": [
       "<tf.Tensor: shape=(), dtype=int32, numpy=2>"
      ]
     },
     "execution_count": 28,
     "metadata": {},
     "output_type": "execute_result"
    }
   ],
   "source": [
    "tensor3= tensor[1,0,1] #slice 1, rows 0, column 1\n",
    "tensor3"
   ]
  },
  {
   "cell_type": "markdown",
   "id": "1d5dbf5a",
   "metadata": {},
   "source": [
    "#### casting a tensor to a  Numpy Variable"
   ]
  },
  {
   "cell_type": "code",
   "execution_count": 29,
   "id": "47d3fb61",
   "metadata": {},
   "outputs": [
    {
     "data": {
      "text/plain": [
       "array([[[2, 3],\n",
       "        [2, 5]],\n",
       "\n",
       "       [[1, 2],\n",
       "        [3, 4]]])"
      ]
     },
     "execution_count": 29,
     "metadata": {},
     "output_type": "execute_result"
    }
   ],
   "source": [
    "tensor.numpy()"
   ]
  },
  {
   "cell_type": "code",
   "execution_count": 30,
   "id": "669e94d5",
   "metadata": {},
   "outputs": [
    {
     "data": {
      "text/plain": [
       "2"
      ]
     },
     "execution_count": 30,
     "metadata": {},
     "output_type": "execute_result"
    }
   ],
   "source": [
    "tensor[1,0,1].numpy()"
   ]
  },
  {
   "cell_type": "markdown",
   "id": "5f3e120d",
   "metadata": {},
   "source": [
    "#### Finding the size or length of a tensor"
   ]
  },
  {
   "cell_type": "code",
   "execution_count": 31,
   "id": "65d76f8a",
   "metadata": {},
   "outputs": [
    {
     "data": {
      "text/plain": [
       "8"
      ]
     },
     "execution_count": 31,
     "metadata": {},
     "output_type": "execute_result"
    }
   ],
   "source": [
    "tensor_size= tf.size(input=tensor).numpy()\n",
    "tensor_size"
   ]
  },
  {
   "cell_type": "code",
   "execution_count": 32,
   "id": "dfd15b57",
   "metadata": {},
   "outputs": [
    {
     "data": {
      "text/plain": [
       "tf.int32"
      ]
     },
     "execution_count": 32,
     "metadata": {},
     "output_type": "execute_result"
    }
   ],
   "source": [
    "tensor.dtype"
   ]
  },
  {
   "cell_type": "code",
   "execution_count": 33,
   "id": "4ccbcaad",
   "metadata": {},
   "outputs": [
    {
     "name": "stdout",
     "output_type": "stream",
     "text": [
      "tf.Tensor(\n",
      "[[ 1.5429881  -0.20382167]\n",
      " [-0.5830548  -0.963527  ]], shape=(2, 2), dtype=float32)\n",
      "tf.Tensor(\n",
      "[[-0.33080027  0.54619575]\n",
      " [-1.121343   -0.28111276]], shape=(2, 2), dtype=float32)\n",
      "tf.Tensor(\n",
      "[[ 1.2121878  0.3423741]\n",
      " [-1.7043978 -1.2446398]], shape=(2, 2), dtype=float32)\n",
      "tf.Tensor(\n",
      "[[1.4693992  0.11722001]\n",
      " [2.9049718  1.5491282 ]], shape=(2, 2), dtype=float32)\n",
      "tf.Tensor(\n",
      "[[3.3608294  1.408287  ]\n",
      " [0.18188189 0.28804466]], shape=(2, 2), dtype=float32)\n"
     ]
    }
   ],
   "source": [
    "a= tf.random.normal(shape=(2,2))\n",
    "b= tf.random.normal(shape=(2,2))\n",
    "c= a+b\n",
    "d=tf.square(c)\n",
    "e=tf.exp(c)\n",
    "print(a)\n",
    "print(b)\n",
    "print(c)\n",
    "print(d)\n",
    "print(e)"
   ]
  },
  {
   "cell_type": "code",
   "execution_count": 34,
   "id": "43ae7c7d",
   "metadata": {},
   "outputs": [
    {
     "data": {
      "text/plain": [
       "<tf.Tensor: shape=(2, 2, 2), dtype=int32, numpy=\n",
       "array([[[ 4,  9],\n",
       "        [ 4, 25]],\n",
       "\n",
       "       [[ 1,  4],\n",
       "        [ 9, 16]]])>"
      ]
     },
     "execution_count": 34,
     "metadata": {},
     "output_type": "execute_result"
    }
   ],
   "source": [
    "tensor*tensor"
   ]
  },
  {
   "cell_type": "code",
   "execution_count": 35,
   "id": "a540a2df",
   "metadata": {},
   "outputs": [
    {
     "data": {
      "text/plain": [
       "<tf.Tensor: shape=(2, 2, 2), dtype=int32, numpy=\n",
       "array([[[ 8, 12],\n",
       "        [ 8, 20]],\n",
       "\n",
       "       [[ 4,  8],\n",
       "        [12, 16]]])>"
      ]
     },
     "execution_count": 35,
     "metadata": {},
     "output_type": "execute_result"
    }
   ],
   "source": [
    "tensor4= tensor*4 #broadcasting\n",
    "tensor4"
   ]
  },
  {
   "cell_type": "code",
   "execution_count": 36,
   "id": "fb3341de",
   "metadata": {},
   "outputs": [
    {
     "data": {
      "text/plain": [
       "<tf.Tensor: shape=(2, 2), dtype=float32, numpy=\n",
       "array([[-0.6217474 , -1.672922  ],\n",
       "       [-0.3333997 ,  0.92466414]], dtype=float32)>"
      ]
     },
     "execution_count": 36,
     "metadata": {},
     "output_type": "execute_result"
    }
   ],
   "source": [
    "#transpose matrix multiplication \n",
    "tf.matmul(a, tf.transpose(b))"
   ]
  },
  {
   "cell_type": "code",
   "execution_count": 37,
   "id": "2676bc76",
   "metadata": {},
   "outputs": [
    {
     "data": {
      "text/plain": [
       "<tf.Tensor: shape=(2, 2, 2), dtype=int64, numpy=\n",
       "array([[[2, 3],\n",
       "        [2, 5]],\n",
       "\n",
       "       [[1, 2],\n",
       "        [3, 4]]], dtype=int64)>"
      ]
     },
     "execution_count": 37,
     "metadata": {},
     "output_type": "execute_result"
    }
   ],
   "source": [
    "#casting a tensor to another datatype \n",
    "tf.cast(tensor, dtype=tf.int64)"
   ]
  },
  {
   "cell_type": "code",
   "execution_count": 38,
   "id": "8326f19e",
   "metadata": {},
   "outputs": [
    {
     "data": {
      "text/plain": [
       "<tf.Tensor: shape=(), dtype=int64, numpy=4>"
      ]
     },
     "execution_count": 38,
     "metadata": {},
     "output_type": "execute_result"
    }
   ],
   "source": [
    "tf.cast(tf.constant(4.4), dtype=tf.int64)"
   ]
  },
  {
   "cell_type": "markdown",
   "id": "b006922d",
   "metadata": {},
   "source": [
    "### Ragged Tensor"
   ]
  },
  {
   "cell_type": "markdown",
   "id": "b00dc0e9",
   "metadata": {},
   "source": [
    "Ragged tensor is a type of tensor having one or more ragged dimension. Ragged dimensions are the dimension that have slices having various length. The simplest way of declearing a ragged tensor is declearning a ragged array. "
   ]
  },
  {
   "cell_type": "code",
   "execution_count": 39,
   "id": "3720a008",
   "metadata": {},
   "outputs": [
    {
     "data": {
      "text/plain": [
       "<tf.RaggedTensor [[[2, 3, 4, 5], [], [4, 5]], [[2, 4], [4, 5]]]>"
      ]
     },
     "execution_count": 39,
     "metadata": {},
     "output_type": "execute_result"
    }
   ],
   "source": [
    "ragged= tf.ragged.constant([[[2,3,4,5],[],[4,5]],[[2,4],[4,5]]])\n",
    "ragged"
   ]
  },
  {
   "cell_type": "code",
   "execution_count": 40,
   "id": "be905ef5",
   "metadata": {},
   "outputs": [],
   "source": [
    "#tf.constant([[[2,3,4,5],[],[4,5]],[[2,4],[4,5]]]) \n",
    "#this will show error because we cannot create a constant of different length.\n",
    "#But using a ragged tensor we can create a constant of different length."
   ]
  },
  {
   "cell_type": "markdown",
   "id": "89d438de",
   "metadata": {},
   "source": [
    "#### Squared differences"
   ]
  },
  {
   "cell_type": "code",
   "execution_count": 41,
   "id": "f460b604",
   "metadata": {},
   "outputs": [
    {
     "data": {
      "text/plain": [
       "<tf.Tensor: shape=(4,), dtype=int32, numpy=array([4, 0, 1, 4])>"
      ]
     },
     "execution_count": 41,
     "metadata": {},
     "output_type": "execute_result"
    }
   ],
   "source": [
    "varx=[4,2,3,4] #returns (x-y)(x-y)\n",
    "vary=2\n",
    "varz=tf.math.squared_difference(varx,vary)\n",
    "varz"
   ]
  },
  {
   "cell_type": "markdown",
   "id": "b79c7cdd",
   "metadata": {},
   "source": [
    "#### Calculate a mean "
   ]
  },
  {
   "cell_type": "code",
   "execution_count": 42,
   "id": "138a3d5d",
   "metadata": {},
   "outputs": [],
   "source": [
    "numbers= tf.constant([[1,2,3,4],[5,6,7,8]], dtype=tf.float64)\n",
    "#add all the number and divide by the total no. of numbers."
   ]
  },
  {
   "cell_type": "code",
   "execution_count": 43,
   "id": "1486980f",
   "metadata": {},
   "outputs": [
    {
     "data": {
      "text/plain": [
       "<tf.Tensor: shape=(), dtype=float64, numpy=4.5>"
      ]
     },
     "execution_count": 43,
     "metadata": {},
     "output_type": "execute_result"
    }
   ],
   "source": [
    "tf.reduce_mean(input_tensor=numbers)"
   ]
  },
  {
   "cell_type": "code",
   "execution_count": 44,
   "id": "4a7836b7",
   "metadata": {},
   "outputs": [
    {
     "data": {
      "text/plain": [
       "<tf.Tensor: shape=(4,), dtype=float64, numpy=array([3., 4., 5., 6.])>"
      ]
     },
     "execution_count": 44,
     "metadata": {},
     "output_type": "execute_result"
    }
   ],
   "source": [
    "tf.reduce_mean(input_tensor=numbers, axis=0)  #calculate the mean across a column."
   ]
  },
  {
   "cell_type": "code",
   "execution_count": 45,
   "id": "c9bf0889",
   "metadata": {},
   "outputs": [
    {
     "data": {
      "text/plain": [
       "<tf.Tensor: shape=(1, 4), dtype=float64, numpy=array([[3., 4., 5., 6.]])>"
      ]
     },
     "execution_count": 45,
     "metadata": {},
     "output_type": "execute_result"
    }
   ],
   "source": [
    "tf.reduce_mean(input_tensor=numbers, axis=0, keepdims=True) #The reduced axis is retained into 1."
   ]
  },
  {
   "cell_type": "code",
   "execution_count": 46,
   "id": "5fcecd65",
   "metadata": {},
   "outputs": [
    {
     "data": {
      "text/plain": [
       "<tf.Tensor: shape=(2,), dtype=float64, numpy=array([2.5, 6.5])>"
      ]
     },
     "execution_count": 46,
     "metadata": {},
     "output_type": "execute_result"
    }
   ],
   "source": [
    "tf.reduce_mean(input_tensor=numbers, axis=1) #calculate the mean across a column."
   ]
  },
  {
   "cell_type": "markdown",
   "id": "e679283b",
   "metadata": {},
   "source": [
    "#### Random Variable Declearation"
   ]
  },
  {
   "cell_type": "code",
   "execution_count": 47,
   "id": "985d9f26",
   "metadata": {},
   "outputs": [
    {
     "data": {
      "text/plain": [
       "<tf.Tensor: shape=(3, 2), dtype=float32, numpy=\n",
       "array([[11.973991 , 11.8844795],\n",
       "       [12.399801 ,  6.366463 ],\n",
       "       [ 7.605011 ,  8.8556   ]], dtype=float32)>"
      ]
     },
     "execution_count": 47,
     "metadata": {},
     "output_type": "execute_result"
    }
   ],
   "source": [
    "tf.random.normal(shape=(3,2),mean=10, stddev=2, seed=None, dtype=tf.float32, name=None)"
   ]
  },
  {
   "cell_type": "code",
   "execution_count": 48,
   "id": "faa24396",
   "metadata": {},
   "outputs": [
    {
     "data": {
      "text/plain": [
       "<tf.Tensor: shape=(2, 2), dtype=int32, numpy=\n",
       "array([[4, 6],\n",
       "       [5, 2]])>"
      ]
     },
     "execution_count": 48,
     "metadata": {},
     "output_type": "execute_result"
    }
   ],
   "source": [
    "#Setting a seed\n",
    "tf.random.set_seed(11)\n",
    "tf.random.uniform(shape=(2,2),maxval=10,dtype=tf.int32)"
   ]
  },
  {
   "cell_type": "code",
   "execution_count": 49,
   "id": "cc36b49e",
   "metadata": {},
   "outputs": [
    {
     "data": {
      "text/plain": [
       "<tf.Tensor: shape=(10, 3), dtype=float32, numpy=\n",
       "array([[ 0.43841103,  2.4217978 ,  2.8602087 ],\n",
       "       [ 1.391929  , -0.6691061 ,  0.7228229 ],\n",
       "       [-0.91094244, -0.9223722 , -1.8333147 ],\n",
       "       [-1.440929  , -0.02014393, -1.461073  ],\n",
       "       [-1.7174875 ,  0.27540633, -1.4420811 ],\n",
       "       [-2.3883555 ,  0.36795077, -2.0204048 ],\n",
       "       [-0.8171607 ,  0.35199216, -0.46516857],\n",
       "       [-0.27803615,  0.18207519, -0.09596096],\n",
       "       [-0.96801126,  1.121964  ,  0.15395272],\n",
       "       [-0.77267975,  0.5269573 , -0.24572247]], dtype=float32)>"
      ]
     },
     "execution_count": 49,
     "metadata": {},
     "output_type": "execute_result"
    }
   ],
   "source": [
    "dice1=tf.random.normal([10,1], seed=11, dtype=tf.float32, name=None)\n",
    "dice2=tf.random.normal([10,1], seed=11, dtype=tf.float32, name=None)\n",
    "sum= dice1+dice2\n",
    "tf.concat(values=[dice1,dice2,sum],axis=1)"
   ]
  },
  {
   "cell_type": "markdown",
   "id": "6e38eb4a",
   "metadata": {},
   "source": [
    "#### Find the indexes of largest and smallest element"
   ]
  },
  {
   "cell_type": "code",
   "execution_count": 50,
   "id": "d72db703",
   "metadata": {},
   "outputs": [
    {
     "name": "stdout",
     "output_type": "stream",
     "text": [
      "tf.Tensor([  1   2   3   4   5   6 100   8  -1  -2  -3  -4], shape=(12,), dtype=int32)\n"
     ]
    }
   ],
   "source": [
    "#1-d tensor\n",
    "tensor1d= tf.constant([1,2,3,4,5,6,100,8,-1,-2,-3,-4])\n",
    "print(tensor1d)"
   ]
  },
  {
   "cell_type": "code",
   "execution_count": 51,
   "id": "1382112f",
   "metadata": {},
   "outputs": [
    {
     "name": "stdout",
     "output_type": "stream",
     "text": [
      "Index of min number : 6\n",
      "The number is: 100\n"
     ]
    }
   ],
   "source": [
    "i= tf.argmax(input=tensor1d).numpy()\n",
    "print(\"Index of min number :\", i)\n",
    "print(\"The number is:\", tensor1d[i].numpy())"
   ]
  },
  {
   "cell_type": "code",
   "execution_count": 52,
   "id": "cf5ac492",
   "metadata": {},
   "outputs": [
    {
     "data": {
      "text/plain": [
       "<tf.Tensor: shape=(), dtype=int64, numpy=11>"
      ]
     },
     "execution_count": 52,
     "metadata": {},
     "output_type": "execute_result"
    }
   ],
   "source": [
    "tf.argmin(input=tensor1d)"
   ]
  },
  {
   "cell_type": "code",
   "execution_count": 53,
   "id": "4cd7f34a",
   "metadata": {},
   "outputs": [
    {
     "data": {
      "text/plain": [
       "<tf.Variable 'Variable:0' shape=(2, 3) dtype=int32, numpy=\n",
       "array([[0, 0, 0],\n",
       "       [0, 0, 0]])>"
      ]
     },
     "execution_count": 53,
     "metadata": {},
     "output_type": "execute_result"
    }
   ],
   "source": [
    "var1= tf.Variable([[1,2,3],[4,5,6]])\n",
    "checkpoint=tf.train.Checkpoint(var=var1)\n",
    "savepath=checkpoint.save(\"./vars\")\n",
    "var1.assign([[0,0,0],[0,0,0]])\n",
    "var1"
   ]
  },
  {
   "cell_type": "code",
   "execution_count": 54,
   "id": "91a46169",
   "metadata": {},
   "outputs": [
    {
     "data": {
      "text/plain": [
       "<tf.Variable 'Variable:0' shape=(2, 3) dtype=int32, numpy=\n",
       "array([[1, 2, 3],\n",
       "       [4, 5, 6]])>"
      ]
     },
     "execution_count": 54,
     "metadata": {},
     "output_type": "execute_result"
    }
   ],
   "source": [
    "checkpoint.restore(savepath)\n",
    "var1"
   ]
  },
  {
   "cell_type": "markdown",
   "id": "70e00676",
   "metadata": {},
   "source": [
    "#### Using tf.function"
   ]
  },
  {
   "cell_type": "code",
   "execution_count": 55,
   "id": "cdb9b24c",
   "metadata": {},
   "outputs": [
    {
     "data": {
      "text/plain": [
       "<tf.Tensor: shape=(), dtype=int32, numpy=8>"
      ]
     },
     "execution_count": 55,
     "metadata": {},
     "output_type": "execute_result"
    }
   ],
   "source": [
    "def f(x,y):\n",
    "    return tf.reduce_mean(input_tensor=tf.multiply(x,y))\n",
    "func= tf.function(f)\n",
    "x=tf.constant(2)\n",
    "y=tf.constant(4)\n",
    "\n",
    "assert f(x,y).numpy() == func(x,y).numpy()\n",
    "\n",
    "f(2,4)"
   ]
  },
  {
   "cell_type": "markdown",
   "id": "acb6ed28",
   "metadata": {},
   "source": [
    "#### Gradient Tape"
   ]
  },
  {
   "cell_type": "code",
   "execution_count": 56,
   "id": "9e176e9d",
   "metadata": {},
   "outputs": [
    {
     "name": "stdout",
     "output_type": "stream",
     "text": [
      "tf.Tensor(\n",
      "[[ 0.4063939  0.6648737]\n",
      " [-0.9829512 -0.6326042]], shape=(2, 2), dtype=float32)\n"
     ]
    }
   ],
   "source": [
    "a=tf.random.normal(shape=(2,2))\n",
    "b=tf.random.normal(shape=(2,2))\n",
    "with tf.GradientTape() as tape:\n",
    "    tape.watch(a)\n",
    "    c=tf.sqrt(tf.square(a)+tf.square(b))\n",
    "    dc_da= tape.gradient(c,a)\n",
    "    print(dc_da)"
   ]
  },
  {
   "cell_type": "markdown",
   "id": "d5ef7045",
   "metadata": {},
   "source": [
    "### Keras- A high level API for Tensorflow 2 "
   ]
  },
  {
   "cell_type": "markdown",
   "id": "4ebb3b26",
   "metadata": {},
   "source": [
    "The Keras Sequential model\n",
    "To build a Keras Sequential model, you add layers to it in the same order that you want the computations to be undertaken by the network.\n",
    "\n",
    "After you have built your model, you compile it; this optimizes the computations that are to be undertaken, and is where you allocate the optimizer and the loss function you want your model to use.\n",
    "\n",
    "The next stage is to fit the model to the data. This is commonly known as training the model, and is where all the computations take place. It is possible to present the data to the model either in batches, or all at once.\n",
    "\n",
    "Next, you evaluate your model to establish its accuracy, loss, and other metrics. Finally, having trained your model, you can use it to make predictions on new data. So, the workflow is: build, compile, fit, evaluate, make predictions.\n",
    "\n",
    "There are two ways to create a Sequential model. Let's take a look at each of them."
   ]
  },
  {
   "cell_type": "markdown",
   "id": "e44827d2",
   "metadata": {},
   "source": [
    "##### Using Sequential model\n",
    "Firstly, you can pass a list of layer instances to the constructor, as in the following example.For now, we will just explain enough to allow you to understand what is happening here.\n",
    "\n",
    "Acquire the data. MNIST is a dataset of hand-drawn numerals, each on a 28 x 28 pixel grid. Every individual data point is an unsigned 8-bit integer (uint8), as are the labels:"
   ]
  },
  {
   "cell_type": "code",
   "execution_count": 57,
   "id": "e9da64f4",
   "metadata": {},
   "outputs": [],
   "source": [
    "mnist_data = tf.keras.datasets.mnist\n",
    "(train_x,train_y), (test_x, test_y) = mnist_data.load_data()"
   ]
  },
  {
   "cell_type": "code",
   "execution_count": 58,
   "id": "ba91c5fe",
   "metadata": {},
   "outputs": [
    {
     "data": {
      "text/plain": [
       "<module 'keras.api._v2.keras.datasets.mnist' from 'C:\\\\Users\\\\asus\\\\anaconda3\\\\lib\\\\site-packages\\\\keras\\\\api\\\\_v2\\\\keras\\\\datasets\\\\mnist\\\\__init__.py'>"
      ]
     },
     "execution_count": 58,
     "metadata": {},
     "output_type": "execute_result"
    }
   ],
   "source": [
    "mnist_data"
   ]
  },
  {
   "cell_type": "markdown",
   "id": "d45c2397",
   "metadata": {},
   "source": [
    "#### Defining a variable"
   ]
  },
  {
   "cell_type": "code",
   "execution_count": 59,
   "id": "0a057f94",
   "metadata": {},
   "outputs": [],
   "source": [
    "epochs=10\n",
    "batch_size = 32"
   ]
  },
  {
   "cell_type": "code",
   "execution_count": 60,
   "id": "38cdc351",
   "metadata": {},
   "outputs": [],
   "source": [
    "# normalize all the data points and cast the labels to int64\n",
    "train_x, test_x = tf.cast(train_x/255.0, tf.float32), tf.cast(test_x/255.0, tf.float32)\n",
    "train_y, test_y = tf.cast(train_y,tf.int64),tf.cast(test_y,tf.int64)"
   ]
  },
  {
   "cell_type": "markdown",
   "id": "c1c14809",
   "metadata": {},
   "source": [
    "#### Building the Architecture"
   ]
  },
  {
   "cell_type": "code",
   "execution_count": 61,
   "id": "2b6fbe23",
   "metadata": {},
   "outputs": [
    {
     "name": "stdout",
     "output_type": "stream",
     "text": [
      "WARNING:tensorflow:From C:\\Users\\asus\\anaconda3\\lib\\site-packages\\keras\\src\\backend.py:873: The name tf.get_default_graph is deprecated. Please use tf.compat.v1.get_default_graph instead.\n",
      "\n"
     ]
    }
   ],
   "source": [
    "mnistmodel1 = tf.keras.models.Sequential([\n",
    "tf.keras.layers.Flatten(),\n",
    "tf.keras.layers.Dense(512,activation=tf.nn.relu),\n",
    "tf.keras.layers.Dropout(0.2),\n",
    "tf.keras.layers.Dense(10,activation=tf.nn.softmax)\n",
    "])"
   ]
  },
  {
   "cell_type": "markdown",
   "id": "fe52ede7",
   "metadata": {},
   "source": [
    "#### Compiling the model"
   ]
  },
  {
   "cell_type": "code",
   "execution_count": 62,
   "id": "4c32f42c",
   "metadata": {},
   "outputs": [],
   "source": [
    "optimiser = tf.keras.optimizers.Adam()\n",
    "mnistmodel1.compile (optimizer= optimiser, loss='sparse_categorical_crossentropy', metrics = ['accuracy'])"
   ]
  },
  {
   "cell_type": "markdown",
   "id": "46bf4c54",
   "metadata": {},
   "source": [
    "#### Fitting the model"
   ]
  },
  {
   "cell_type": "code",
   "execution_count": 63,
   "id": "90c15577",
   "metadata": {},
   "outputs": [
    {
     "name": "stdout",
     "output_type": "stream",
     "text": [
      "Epoch 1/5\n",
      "WARNING:tensorflow:From C:\\Users\\asus\\anaconda3\\lib\\site-packages\\keras\\src\\utils\\tf_utils.py:492: The name tf.ragged.RaggedTensorValue is deprecated. Please use tf.compat.v1.ragged.RaggedTensorValue instead.\n",
      "\n",
      "WARNING:tensorflow:From C:\\Users\\asus\\anaconda3\\lib\\site-packages\\keras\\src\\engine\\base_layer_utils.py:384: The name tf.executing_eagerly_outside_functions is deprecated. Please use tf.compat.v1.executing_eagerly_outside_functions instead.\n",
      "\n",
      "1875/1875 [==============================] - 12s 6ms/step - loss: 0.2167 - accuracy: 0.9355\n",
      "Epoch 2/5\n",
      "1875/1875 [==============================] - 13s 7ms/step - loss: 0.0961 - accuracy: 0.9706\n",
      "Epoch 3/5\n",
      "1875/1875 [==============================] - 11s 6ms/step - loss: 0.0690 - accuracy: 0.9784\n",
      "Epoch 4/5\n",
      "1875/1875 [==============================] - 11s 6ms/step - loss: 0.0534 - accuracy: 0.9832\n",
      "Epoch 5/5\n",
      "1875/1875 [==============================] - 13s 7ms/step - loss: 0.0425 - accuracy: 0.9862\n"
     ]
    },
    {
     "data": {
      "text/plain": [
       "<keras.src.callbacks.History at 0x27e29d8bdc0>"
      ]
     },
     "execution_count": 63,
     "metadata": {},
     "output_type": "execute_result"
    }
   ],
   "source": [
    "mnistmodel1.fit(train_x, train_y, batch_size=32, epochs=5)"
   ]
  },
  {
   "cell_type": "markdown",
   "id": "3c30ee76",
   "metadata": {},
   "source": [
    "#### Evaluate the mnistmodel1"
   ]
  },
  {
   "cell_type": "code",
   "execution_count": 64,
   "id": "36cbf1f9",
   "metadata": {},
   "outputs": [
    {
     "name": "stdout",
     "output_type": "stream",
     "text": [
      "313/313 [==============================] - 1s 2ms/step - loss: 0.0694 - accuracy: 0.9795\n"
     ]
    },
    {
     "data": {
      "text/plain": [
       "[0.06941836327314377, 0.9794999957084656]"
      ]
     },
     "execution_count": 64,
     "metadata": {},
     "output_type": "execute_result"
    }
   ],
   "source": [
    "mnistmodel1.evaluate(test_x, test_y)"
   ]
  },
  {
   "cell_type": "markdown",
   "id": "f1b79f20",
   "metadata": {},
   "source": [
    "\n",
    "This represents a loss of 0.06 and an accuracy of 0.98 on the test data.\n",
    "\n",
    "An accuracy of 0.98 means that out of 100 test data points, 98 were, on average, correctly identified by the model."
   ]
  },
  {
   "cell_type": "code",
   "execution_count": null,
   "id": "febeb4e5",
   "metadata": {},
   "outputs": [],
   "source": []
  }
 ],
 "metadata": {
  "kernelspec": {
   "display_name": "Python 3 (ipykernel)",
   "language": "python",
   "name": "python3"
  },
  "language_info": {
   "codemirror_mode": {
    "name": "ipython",
    "version": 3
   },
   "file_extension": ".py",
   "mimetype": "text/x-python",
   "name": "python",
   "nbconvert_exporter": "python",
   "pygments_lexer": "ipython3",
   "version": "3.9.12"
  }
 },
 "nbformat": 4,
 "nbformat_minor": 5
}
